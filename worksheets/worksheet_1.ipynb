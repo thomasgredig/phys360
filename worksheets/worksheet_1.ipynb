{
 "cells": [
  {
   "cell_type": "code",
   "execution_count": null,
   "metadata": {
    "deletable": false,
    "editable": false
   },
   "outputs": [],
   "source": [
    "# Initialize Otter\n",
    "import otter\n",
    "grader = otter.Notebook(\"worksheet_1.ipynb\")"
   ]
  },
  {
   "cell_type": "markdown",
   "metadata": {},
   "source": [
    "<div style=\"background-color: lightblue; padding: 10px; border-radius: 5px;\">\n",
    "\n",
    "# PHYS 360 - Worksheet 1\n",
    "\n",
    "This worksheet is for course PHYS 360 - Introduction to Computational Physics.\n",
    "\n",
    "Copyright (c) 2025 Thomas Gredig\n",
    "\n",
    "## Goals:\n",
    "\n",
    "- Basic Notation in Python\n",
    "- `Math` package\n",
    "- Markdown Language\n",
    "- LaTeX notation\n",
    "\n",
    "</div>"
   ]
  },
  {
   "cell_type": "markdown",
   "metadata": {},
   "source": [
    "## Basic Arithmetic"
   ]
  },
  {
   "cell_type": "markdown",
   "metadata": {
    "deletable": false,
    "editable": false
   },
   "source": [
    "\n",
    "### Question: Arithmetic\n",
    "\n",
    "Compute `2+2` and $2^5$.\n"
   ]
  },
  {
   "cell_type": "code",
   "execution_count": null,
   "metadata": {
    "deletable": false,
    "editable": false
   },
   "outputs": [],
   "source": [
    "2 + 2, 2**5"
   ]
  },
  {
   "cell_type": "markdown",
   "metadata": {
    "deletable": false,
    "editable": false
   },
   "source": [
    "<div style=\"background-color: lightgreen; padding: 20px; border-radius: 15px;\">\n",
    "\n",
    "\n",
    "You can use `+`, `-`, `*`, `/` and `**` (power) operators to compute in Python. Compute $A = 300*5^5 / 2$ and $B = (5 + A)^\\frac{3}{5}$\n",
    "\n",
    "</div>"
   ]
  },
  {
   "cell_type": "code",
   "execution_count": null,
   "metadata": {
    "tags": [
     "otter_answer_cell"
    ]
   },
   "outputs": [],
   "source": [
    "A = ...\n",
    "B = ...\n",
    "\n",
    "print(f\"{A=} and {B=}\")"
   ]
  },
  {
   "cell_type": "code",
   "execution_count": null,
   "metadata": {
    "deletable": false,
    "editable": false
   },
   "outputs": [],
   "source": [
    "grader.check(\"q1_arith\")"
   ]
  },
  {
   "cell_type": "markdown",
   "metadata": {},
   "source": [
    "There is one more operator, `//` which is **integer division**. Here is an example:"
   ]
  },
  {
   "cell_type": "code",
   "execution_count": null,
   "metadata": {},
   "outputs": [],
   "source": [
    "10 // 3, 10 / 3"
   ]
  },
  {
   "cell_type": "markdown",
   "metadata": {
    "deletable": false,
    "editable": false
   },
   "source": [
    "<div style=\"background-color: lightgreen; padding: 20px; border-radius: 15px;\">\n",
    "\n",
    "### Question: Arithmetic (2)\n",
    "\n",
    "Make your own example for an integer division and see what you get! \n",
    "- Use numbers\n",
    "- Show the difference between `/` and `//` division.\n",
    "- `A` is the result from `//` and `B` the result from `/`\n",
    "- choose your example such that `round(A,0)` <> `round(B,0)`\n",
    "</div>"
   ]
  },
  {
   "cell_type": "code",
   "execution_count": null,
   "metadata": {
    "tags": [
     "otter_answer_cell"
    ]
   },
   "outputs": [],
   "source": [
    "A = ...\n",
    "B = ...\n",
    "\n",
    "print(f\"{A=} and {B=}\")"
   ]
  },
  {
   "cell_type": "code",
   "execution_count": null,
   "metadata": {
    "deletable": false,
    "editable": false
   },
   "outputs": [],
   "source": [
    "grader.check(\"q1_arith_integerdivision\")"
   ]
  },
  {
   "cell_type": "markdown",
   "metadata": {},
   "source": [
    "<div style=\"background-color: lightgreen; padding: 20px; border-radius: 15px;\">\n",
    "\n",
    "## Basic Trigonometry\n",
    "\n",
    "You can import the `math` package. It contains everything you need for trigonometry. Note that angles need to be entered in radians rather than degrees.\n",
    "\n",
    "</div>"
   ]
  },
  {
   "cell_type": "code",
   "execution_count": null,
   "metadata": {},
   "outputs": [],
   "source": [
    "from math import pi, sin, radians, isclose\n",
    "sin(radians(90)), sin(pi), sin(pi/6)"
   ]
  },
  {
   "cell_type": "markdown",
   "metadata": {
    "deletable": false,
    "editable": false
   },
   "source": [
    "<div style=\"background-color: lightgreen; padding: 20px; border-radius: 15px;\">\n",
    "\n",
    "### Question: Compute Trig\n",
    "\n",
    "Compute $T = e^{(\\sqrt{\\pi})^{\\sin(y)}}$ for $y=30^\\circ$.\n",
    "\n",
    "</div>"
   ]
  },
  {
   "cell_type": "code",
   "execution_count": null,
   "metadata": {
    "tags": [
     "otter_answer_cell"
    ]
   },
   "outputs": [],
   "source": [
    "...\n",
    "y = ...\n",
    "T = ...\n",
    "T"
   ]
  },
  {
   "cell_type": "code",
   "execution_count": null,
   "metadata": {
    "deletable": false,
    "editable": false
   },
   "outputs": [],
   "source": [
    "grader.check(\"q2_trig\")"
   ]
  },
  {
   "cell_type": "markdown",
   "metadata": {},
   "source": [
    "## For Loops\n",
    "\n",
    "Note: Python is a zero-indexed language, so everything starts with 0\n",
    "\n",
    "-   `range(n)` creates numbers from 0,1,..., n-1\n",
    "-   `for` loop iterates over all elements\n",
    "-   `f-string` will format variables."
   ]
  },
  {
   "cell_type": "code",
   "execution_count": null,
   "metadata": {},
   "outputs": [],
   "source": [
    "a = \"Hello World!\"  # variables\n",
    "for i in range(3):\n",
    "  print(f\"Line {i}: {a}\")"
   ]
  },
  {
   "cell_type": "markdown",
   "metadata": {},
   "source": [
    "Everything after the `for` loop needs to be indented, see [Python FOR loops](https://www.w3schools.com/python/python_for_loops.asp)"
   ]
  },
  {
   "cell_type": "markdown",
   "metadata": {},
   "source": [
    "Calculate $S = \\sum_{n=1}^{1000} \\frac{(-1)^n}{n^2}$ with a `for` loop"
   ]
  },
  {
   "cell_type": "code",
   "execution_count": null,
   "metadata": {},
   "outputs": [],
   "source": [
    "S = 0\n",
    "for n in range(1,1001):\n",
    "  S = S + (  (-1)**n / (n*n) )\n",
    "S"
   ]
  },
  {
   "cell_type": "markdown",
   "metadata": {
    "deletable": false,
    "editable": false
   },
   "source": [
    "Calculate $D = \\sum_{n=0}^{25} \\frac{n}{(n+1)^3}$ with a `for` loop"
   ]
  },
  {
   "cell_type": "code",
   "execution_count": null,
   "metadata": {
    "tags": [
     "otter_answer_cell"
    ]
   },
   "outputs": [],
   "source": [
    "D = ...\n",
    "...\n",
    "D"
   ]
  },
  {
   "cell_type": "code",
   "execution_count": null,
   "metadata": {
    "deletable": false,
    "editable": false
   },
   "outputs": [],
   "source": [
    "grader.check(\"q3_for\")"
   ]
  },
  {
   "cell_type": "markdown",
   "metadata": {},
   "source": [
    "You can write a function with `def f(x):`, after the `:` all lines that belong to the function have to be indented, see [Python Functions](https://www.w3schools.com/python/python_functions.asp)\n",
    "\n",
    "Note: the function ends with `return`, you can define a default argument for the radius `r`."
   ]
  },
  {
   "cell_type": "code",
   "execution_count": null,
   "metadata": {},
   "outputs": [],
   "source": [
    "from math import pi\n",
    "def surface_area_sphere(r=1):\n",
    "  A = 4*pi*r*r\n",
    "  return A\n",
    "\n",
    "surface_area_sphere(), surface_area_sphere(10)"
   ]
  },
  {
   "cell_type": "markdown",
   "metadata": {
    "deletable": false,
    "editable": false,
    "vscode": {
     "languageId": "raw"
    }
   },
   "source": [
    "<div style=\"background-color: lightgreen; padding: 20px; border-radius: 15px;\">\n",
    "\n",
    "### Question: Function\n",
    "\n",
    "Write a function $S(N) = \\sum_{n=1}^{N} \\frac{(-1)^n}{n^2}$\n",
    "\n",
    "</div>"
   ]
  },
  {
   "cell_type": "code",
   "execution_count": null,
   "metadata": {
    "tags": [
     "otter_answer_cell"
    ]
   },
   "outputs": [],
   "source": [
    "..."
   ]
  },
  {
   "cell_type": "code",
   "execution_count": null,
   "metadata": {
    "deletable": false,
    "editable": false
   },
   "outputs": [],
   "source": [
    "grader.check(\"q3_function\")"
   ]
  },
  {
   "cell_type": "markdown",
   "metadata": {},
   "source": [
    "## Homework Problem Example\n",
    "\n",
    "Create a table with $x$ and $\\sin(x)$ values for $x = 0, ... 2\\pi$ every 45 degrees."
   ]
  },
  {
   "cell_type": "code",
   "execution_count": null,
   "metadata": {},
   "outputs": [],
   "source": [
    "from math import sin, radians\n",
    "for i in range(9):\n",
    "  x, y = i*45, sin(radians(i*45))\n",
    "  print(f\"{x:3} deg: sin({x:3}) = {y:+.3f}\")"
   ]
  },
  {
   "cell_type": "markdown",
   "metadata": {},
   "source": [
    "## Markdown Formatting\n",
    "\n",
    "| Formatting     | Description                                                               | Example                     |\n",
    "|----------------|---------------------------------------------------------------------------|-----------------------------|\n",
    "| Headings       | `#` for headers                                                           | `# Title`  `## Subtitle`    |\n",
    "| Bold           | Enclose text in double asterisks                                          | `**bold**`                  |\n",
    "| Italic         | Use single asterisks or underscores                                       | `_italic_`                  |\n",
    "| Ordered List   | Start lines with numbers                                                  | `1. Item Uno  2. Item Duo`  |\n",
    "| Unordered List | Use asterisks, plus signs, or hyphens                                     | `* Bullet Mot  * Bullet Hai`|\n",
    "| Links          | Use `[text](link)` syntax                                                 | `[OpenAI](https://openai.com)` |\n",
    "| Figures        | Use `![alt text](image)` syntax                                           | `![caption](image.png)`     |\n",
    "| Code Cells     | Three backticks create a code block; close with three more backticks      | ```` ```python 2+2 ``` ```` |\n"
   ]
  },
  {
   "cell_type": "markdown",
   "metadata": {},
   "source": [
    "## Getting Started with TeX\n",
    "\n",
    "| Symbol                          | Description                             | Math Code                                |\n",
    "|---------------------------------|-----------------------------------------|------------------------------------------|\n",
    "| $\\sum$, $\\int$, $\\prod$, $\\vec{x}$ | Summation, integral, product, vector     | `\\sum`, `\\int`, `\\prod`, `\\vec`          |\n",
    "| $\\sqrt{x}, \\times, \\partial, \\to, \\infty$ | Square root, times, partial, right arrow, infinity | `\\sqrt`, `\\times`, `\\partial`, `\\to` , `\\infty`    |\n",
    "| $\\frac{a}{b}, x^2, x_{i,j}$     | Fraction, superscript, subscript         | `\\frac{a}{b}`, `x^2`, `x_{i,j}`          |\n",
    "| $\\alpha, \\beta, \\gamma, \\delta, \\ldots$ | Greek letters                            | `\\alpha`, `\\beta`, `\\gamma`, `\\delta`, `\\ldots` |\n",
    "| $\\cdot, \\simeq, \\leq, \\geq, \\approx$ | Symbols                                  | `\\cdot`, `\\simeq`, `\\leq`, `\\geq`, `\\approx` |\n",
    "| $\\sin, \\cos, \\exp$              | Sine, cosine, exponential                | `\\sin`, `\\cos`, `\\exp`                   |\n",
    "\n"
   ]
  },
  {
   "attachments": {
    "image.png": {
     "image/png": "[encoded data removed]"
    }
   },
   "cell_type": "markdown",
   "metadata": {
    "deletable": false,
    "editable": false
   },
   "source": [
    "<!-- BEGIN QUESTION -->\n",
    "\n",
    "<div style=\"background-color: lightgreen; padding: 20px; border-radius: 15px;\">\n",
    "\n",
    "### Question: Markdown\n",
    "\n",
    "For this exercise, do all of the following:\n",
    "\n",
    "-  Write this equation for $\\pi$: ![image.png](attachment:image.png) in markdown.\n",
    "-  Use a heading in markdown and add a list with at least two uses for $\\pi$\n",
    "-  Add another heading and describe one equation that is important to you. Use several symbols from the TeX text and write the name of the equation in boldface.\n",
    "\n",
    "</div>"
   ]
  },
  {
   "cell_type": "markdown",
   "metadata": {
    "tags": [
     "otter_answer_cell"
    ]
   },
   "source": [
    "_Type your answer here, replacing this text._"
   ]
  },
  {
   "cell_type": "markdown",
   "metadata": {
    "deletable": false,
    "editable": false
   },
   "source": [
    "<!-- END QUESTION -->\n",
    "\n",
    "<div style=\"background-color: lightgreen; padding: 20px; border-radius: 15px;\">\n",
    "\n",
    "### Question: Compute $\\pi$\n",
    "\n",
    "Compute `PI` = $\\pi$ based on the equation above as well as possible, but with at least 8 significant digits.\n",
    "\n",
    "</div>"
   ]
  },
  {
   "cell_type": "code",
   "execution_count": null,
   "metadata": {
    "tags": [
     "otter_answer_cell"
    ]
   },
   "outputs": [],
   "source": [
    "PI = 0\n",
    "\n",
    "...\n",
    "\n",
    "print(f\"{PI=}\")"
   ]
  },
  {
   "cell_type": "code",
   "execution_count": null,
   "metadata": {
    "deletable": false,
    "editable": false
   },
   "outputs": [],
   "source": [
    "grader.check(\"q4_markdown\")"
   ]
  },
  {
   "cell_type": "markdown",
   "metadata": {
    "deletable": false,
    "editable": false
   },
   "source": [
    "## Submission\n",
    "\n",
    "Make sure you have run all cells in your notebook in order before running the cell below, so that all images/graphs appear in the output. The cell below will generate a zip file for you to submit. **Please save before exporting!**\n",
    "\n",
    "Complete all questions."
   ]
  },
  {
   "cell_type": "code",
   "execution_count": null,
   "metadata": {
    "deletable": false,
    "editable": false
   },
   "outputs": [],
   "source": [
    "# Save your notebook first, then run this cell to export your submission.\n",
    "grader.export(run_tests=True)"
   ]
  },
  {
   "cell_type": "markdown",
   "metadata": {},
   "source": [
    " "
   ]
  }
 ],
 "metadata": {
  "kernelspec": {
   "display_name": "py313",
   "language": "python",
   "name": "python3"
  },
  "language_info": {
   "codemirror_mode": {
    "name": "ipython",
    "version": 3
   },
   "file_extension": ".py",
   "mimetype": "text/x-python",
   "name": "python",
   "nbconvert_exporter": "python",
   "pygments_lexer": "ipython3",
   "version": "3.13.2"
  },
  "otter": {
   "OK_FORMAT": true,
   "assignment_name": "worksheet1",
   "tests": {
    "q1_arith": {
     "name": "q1_arith",
     "points": 1,
     "suites": [
      {
       "cases": [
        {
         "code": ">>> A == 468750\nTrue",
         "hidden": false,
         "locked": false
        },
        {
         "code": ">>> B < 10000.0\nTrue",
         "hidden": false,
         "locked": false
        }
       ],
       "scored": true,
       "setup": "",
       "teardown": "",
       "type": "doctest"
      }
     ]
    },
    "q1_arith_integerdivision": {
     "name": "q1_arith_integerdivision",
     "points": 1,
     "suites": [
      {
       "cases": [
        {
         "code": ">>> int(A) == A\nTrue",
         "hidden": false,
         "locked": false
        },
        {
         "code": ">>> int(B) != B\nTrue",
         "hidden": false,
         "locked": false
        },
        {
         "code": ">>> A != B\nTrue",
         "hidden": false,
         "locked": false
        }
       ],
       "scored": true,
       "setup": "",
       "teardown": "",
       "type": "doctest"
      }
     ]
    },
    "q2_trig": {
     "name": "q2_trig",
     "points": 1,
     "suites": [
      {
       "cases": [
        {
         "code": ">>> T > 0 and T < 5\nTrue",
         "hidden": false,
         "locked": false
        }
       ],
       "scored": true,
       "setup": "",
       "teardown": "",
       "type": "doctest"
      }
     ]
    },
    "q3_for": {
     "name": "q3_for",
     "points": 1,
     "suites": [
      {
       "cases": [
        {
         "code": ">>> D > 0.4 and D < 0.5\nTrue",
         "hidden": false,
         "locked": false
        }
       ],
       "scored": true,
       "setup": "",
       "teardown": "",
       "type": "doctest"
      }
     ]
    },
    "q3_function": {
     "name": "q3_function",
     "points": 1,
     "suites": [
      {
       "cases": [
        {
         "code": ">>> S(10) < 0\nTrue",
         "hidden": false,
         "locked": false
        },
        {
         "code": ">>> S(1000) > S(100)\nTrue",
         "hidden": false,
         "locked": false
        }
       ],
       "scored": true,
       "setup": "",
       "teardown": "",
       "type": "doctest"
      }
     ]
    },
    "q4_markdown": {
     "name": "q4_markdown",
     "points": 1,
     "suites": [
      {
       "cases": [
        {
         "code": ">>> str(PI)[:5] == '3.141'\nTrue",
         "hidden": false,
         "locked": false
        },
        {
         "code": ">>> str(PI)[:8] == '3.141592'\nTrue",
         "hidden": false,
         "locked": false
        }
       ],
       "scored": true,
       "setup": "",
       "teardown": "",
       "type": "doctest"
      }
     ]
    }
   }
  }
 },
 "nbformat": 4,
 "nbformat_minor": 4
}
